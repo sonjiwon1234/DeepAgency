{
  "nbformat": 4,
  "nbformat_minor": 0,
  "metadata": {
    "kernelspec": {
      "display_name": "Python 3",
      "language": "python",
      "name": "python3"
    },
    "language_info": {
      "codemirror_mode": {
        "name": "ipython",
        "version": 3
      },
      "file_extension": ".py",
      "mimetype": "text/x-python",
      "name": "python",
      "nbconvert_exporter": "python",
      "pygments_lexer": "ipython3",
      "version": "3.7.3"
    },
    "colab": {
      "name": "_1_crawling.ipynb",
      "provenance": [],
      "include_colab_link": true
    }
  },
  "cells": [
    {
      "cell_type": "markdown",
      "metadata": {
        "id": "view-in-github",
        "colab_type": "text"
      },
      "source": [
        "<a href=\"https://colab.research.google.com/github/sonjiwon1234/ML/blob/master/_1_crawling.ipynb\" target=\"_parent\"><img src=\"https://colab.research.google.com/assets/colab-badge.svg\" alt=\"Open In Colab\"/></a>"
      ]
    },
    {
      "cell_type": "code",
      "metadata": {
        "id": "81ZP4ejO1m6s"
      },
      "source": [
        "#import search List\n",
        "from openpyxl import load_workbook"
      ],
      "execution_count": null,
      "outputs": []
    },
    {
      "cell_type": "code",
      "metadata": {
        "id": "8rLBSkc91m6w"
      },
      "source": [
        "load_wb = load_workbook(\"./model_info.xlsx\", data_only = True)"
      ],
      "execution_count": null,
      "outputs": []
    },
    {
      "cell_type": "code",
      "metadata": {
        "id": "B-_g7kCx1m6z"
      },
      "source": [
        "load_ws = load_wb['Sheet1']"
      ],
      "execution_count": null,
      "outputs": []
    },
    {
      "cell_type": "code",
      "metadata": {
        "id": "5JYxU1Nd1m62"
      },
      "source": [
        "all_values = []\n",
        "for row in load_ws.rows:\n",
        "    row_value = []\n",
        "    for cell in row:\n",
        "        row_value.append(cell.value)\n",
        "    all_values.append(row_value)"
      ],
      "execution_count": null,
      "outputs": []
    },
    {
      "cell_type": "code",
      "metadata": {
        "id": "sA20bO0P1m65"
      },
      "source": [
        "searchList = []\n",
        "for i in range(10,len(all_values)):\n",
        "    searchList.append(all_values[i][1]) \n",
        "    "
      ],
      "execution_count": null,
      "outputs": []
    },
    {
      "cell_type": "code",
      "metadata": {
        "id": "L5nBG4wF1m68",
        "outputId": "8eaefb16-ff1a-47cd-c1a6-882bc15710de"
      },
      "source": [
        "searchList"
      ],
      "execution_count": null,
      "outputs": [
        {
          "output_type": "execute_result",
          "data": {
            "text/plain": [
              "['오상진',\n",
              " '장동건',\n",
              " '공유',\n",
              " '원빈',\n",
              " '이나영',\n",
              " '한예슬',\n",
              " '장도연',\n",
              " '전지현',\n",
              " '강균성',\n",
              " '설현',\n",
              " '손예진',\n",
              " '손흥민',\n",
              " '이준기',\n",
              " '전광렬',\n",
              " '이순재']"
            ]
          },
          "metadata": {
            "tags": []
          },
          "execution_count": 10
        }
      ]
    },
    {
      "cell_type": "code",
      "metadata": {
        "id": "L_huUjoU1m7A"
      },
      "source": [
        "import time\n",
        "\n",
        "from selenium import webdriver\n",
        "from selenium.common.exceptions import WebDriverException\n",
        "from selenium.webdriver.support.ui import WebDriverWait\n",
        "from selenium.webdriver.support import expected_conditions\n",
        "from selenium.webdriver.common.by import By\n",
        "from selenium.common.exceptions import ElementNotVisibleException\n",
        "\n",
        "from openpyxl import Workbook"
      ],
      "execution_count": null,
      "outputs": []
    },
    {
      "cell_type": "code",
      "metadata": {
        "id": "vomgLApz1m7D"
      },
      "source": [
        "def scroll_down():\n",
        "\n",
        "    SCROLL_PAUSE_TIME = 5\n",
        "\n",
        "    # Get scroll height\n",
        "    last_height = driver.execute_script(\"return document.body.scrollHeight\")\n",
        "\n",
        "    while True:\n",
        "        # Scroll down to bottom\n",
        "        driver.execute_script(\"window.scrollTo(0, document.body.scrollHeight);\")\n",
        "\n",
        "        # Wait to load page\n",
        "        time.sleep(SCROLL_PAUSE_TIME)\n",
        "\n",
        "        # Calculate new scroll height and compare with last scroll height\n",
        "        new_height = driver.execute_script(\"return document.body.scrollHeight\")\n",
        "\n",
        "        if new_height == last_height:\n",
        "            \n",
        "            name = driver.find_element_by_xpath(\"/html/body/article/article/div/article/div/div[1]/div/div[5]/a[1]\")            \n",
        "            try:\n",
        "                WebDriverWait(driver, SCROLL_PAUSE_TIME).until(\n",
        "                    expected_conditions.invisibility_of_element(\n",
        "                        (By.ID, 'extend_comp extend_imgtab')\n",
        "                    ))\n",
        "                name.click()\n",
        "            except WebDriverException:\n",
        "                break\n",
        "            except  ElementNotVisibleException:\n",
        "                break\n",
        "        last_height = new_height"
      ],
      "execution_count": null,
      "outputs": []
    },
    {
      "cell_type": "code",
      "metadata": {
        "id": "dY5hd6Fv1m7G",
        "outputId": "f0380d0d-bff2-49bf-efbb-29abfd18873b"
      },
      "source": [
        "wb = load_workbook(\"./img_list.xlsx\") \n",
        "\n",
        "for i in range(0,len(searchList)):\n",
        "    searchitem = searchList[i]\n",
        "    url = \"https://search.daum.net/search?w=img&nil_search=btn&DA=NTB&enc=utf8&q=\" + searchitem\n",
        "    \n",
        "    # headless option\n",
        "    fireFoxOptions = webdriver.FirefoxOptions()\n",
        "    fireFoxOptions.set_headless()\n",
        "    \n",
        "    driver = webdriver.Firefox(firefox_options = fireFoxOptions)\n",
        "    driver.get(url)\n",
        "    driver.maximize_window()\n",
        "    scroll_down()\n",
        "    \n",
        "    a = driver.find_elements_by_class_name(\"thumb_img\")\n",
        "    img_cnt= len(a)\n",
        "    \n",
        "    link = []\n",
        "    for i in range(1,img_cnt):\n",
        "        img = driver.find_element_by_xpath('/html/body/article/article/div/article/div/div[1]/div/div[3]/div/div['+str(i) + ']/a/img')\n",
        "        link.append(img.get_attribute('src'))\n",
        "    \n",
        "    # save link as excel file\n",
        "    ws = wb.create_sheet()\n",
        "    \n",
        "    for j in range(0, img_cnt-1):\n",
        "        #print(\"link\", link[i])\n",
        "        #print(\"item\" , searchitem)\n",
        "        ws.append([searchitem, link[j]])\n",
        "    wb.save(\"img_list.xlsx\")\n",
        "    driver.close()\n",
        "    print(searchitem + \"saved\")"
      ],
      "execution_count": null,
      "outputs": [
        {
          "output_type": "stream",
          "text": [
            "C:\\ProgramData\\Anaconda3\\lib\\site-packages\\ipykernel_launcher.py:9: DeprecationWarning: use setter for headless property instead of set_headless\n",
            "  if __name__ == '__main__':\n",
            "C:\\ProgramData\\Anaconda3\\lib\\site-packages\\ipykernel_launcher.py:11: DeprecationWarning: use options instead of firefox_options\n",
            "  # This is added back by InteractiveShellApp.init_path()\n"
          ],
          "name": "stderr"
        },
        {
          "output_type": "stream",
          "text": [
            "오상진saved\n",
            "장동건saved\n",
            "공유saved\n",
            "원빈saved\n",
            "이나영saved\n",
            "한예슬saved\n",
            "장도연saved\n",
            "전지현saved\n",
            "강균성saved\n",
            "설현saved\n",
            "손예진saved\n",
            "손흥민saved\n",
            "이준기saved\n",
            "전광렬saved\n",
            "이순재saved\n"
          ],
          "name": "stdout"
        }
      ]
    },
    {
      "cell_type": "code",
      "metadata": {
        "id": "dVGSvSuU1m7J"
      },
      "source": [
        "driver.quit()"
      ],
      "execution_count": null,
      "outputs": []
    },
    {
      "cell_type": "code",
      "metadata": {
        "id": "vmtWNu9e1m7M"
      },
      "source": [
        ""
      ],
      "execution_count": null,
      "outputs": []
    },
    {
      "cell_type": "code",
      "metadata": {
        "id": "Z05Wu82a1m7O"
      },
      "source": [
        "# # img read using url\n",
        "\n",
        "# from PIL import Image\n",
        "# import requests\n",
        "# from io import BytesIO\n",
        "\n",
        "# response = requests.get(link[0])\n",
        "# img = Image.open(BytesIO(response.content))"
      ],
      "execution_count": null,
      "outputs": []
    }
  ]
}